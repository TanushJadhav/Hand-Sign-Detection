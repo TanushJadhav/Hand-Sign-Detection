{
 "cells": [
  {
   "cell_type": "markdown",
   "metadata": {},
   "source": [
    "# 1. Import Dependencies"
   ]
  },
  {
   "cell_type": "code",
   "execution_count": 1,
   "metadata": {},
   "outputs": [
    {
     "name": "stdout",
     "output_type": "stream",
     "text": [
      "Requirement already satisfied: opencv-python in c:\\users\\tanus\\desktop\\tfodcourse-main\\tfod\\lib\\site-packages (4.7.0.68)\n",
      "Requirement already satisfied: numpy>=1.17.0 in c:\\users\\tanus\\desktop\\tfodcourse-main\\tfod\\lib\\site-packages (from opencv-python) (1.24.1)\n"
     ]
    }
   ],
   "source": [
    "!pip install opencv-python"
   ]
  },
  {
   "cell_type": "code",
   "execution_count": 2,
   "metadata": {},
   "outputs": [],
   "source": [
    "# Import opencv\n",
    "import cv2 \n",
    "\n",
    "# Import uuid\n",
    "import uuid\n",
    "\n",
    "# Import Operating System\n",
    "import os\n",
    "\n",
    "# Import time\n",
    "import time"
   ]
  },
  {
   "cell_type": "markdown",
   "metadata": {},
   "source": [
    "# 2. Define Images to Collect"
   ]
  },
  {
   "cell_type": "code",
   "execution_count": 3,
   "metadata": {},
   "outputs": [],
   "source": [
    "labels = ['thumbsup', 'thumbsdown', 'thankyou', 'livelong']\n",
    "number_imgs = 5"
   ]
  },
  {
   "cell_type": "markdown",
   "metadata": {},
   "source": [
    "# 3. Setup Folders "
   ]
  },
  {
   "cell_type": "code",
   "execution_count": 4,
   "metadata": {},
   "outputs": [],
   "source": [
    "IMAGES_PATH = os.path.join('Tensorflow', 'workspace', 'images', 'collectedimages')"
   ]
  },
  {
   "cell_type": "code",
   "execution_count": 5,
   "metadata": {},
   "outputs": [],
   "source": [
    "if not os.path.exists(IMAGES_PATH):\n",
    "    if os.name == 'posix':\n",
    "        !mkdir -p {IMAGES_PATH}\n",
    "    if os.name == 'nt':\n",
    "         !mkdir {IMAGES_PATH}\n",
    "for label in labels:\n",
    "    path = os.path.join(IMAGES_PATH, label)\n",
    "    if not os.path.exists(path):\n",
    "        !mkdir {path}"
   ]
  },
  {
   "cell_type": "markdown",
   "metadata": {},
   "source": [
    "# 4. Capture Images"
   ]
  },
  {
   "cell_type": "code",
   "execution_count": 9,
   "metadata": {},
   "outputs": [
    {
     "name": "stdout",
     "output_type": "stream",
     "text": [
      "Collecting images for thumbsup\n",
      "Collecting image 0\n",
      "Collecting image 1\n",
      "Collecting image 2\n",
      "Collecting image 3\n",
      "Collecting image 4\n",
      "Collecting images for thumbsdown\n",
      "Collecting image 0\n",
      "Collecting image 1\n",
      "Collecting image 2\n",
      "Collecting image 3\n",
      "Collecting image 4\n",
      "Collecting images for thankyou\n",
      "Collecting image 0\n",
      "Collecting image 1\n",
      "Collecting image 2\n",
      "Collecting image 3\n",
      "Collecting image 4\n",
      "Collecting images for livelong\n",
      "Collecting image 0\n",
      "Collecting image 1\n",
      "Collecting image 2\n",
      "Collecting image 3\n",
      "Collecting image 4\n"
     ]
    }
   ],
   "source": [
    "for label in labels:\n",
    "    cap = cv2.VideoCapture(0) #connects to webcam or captured device\n",
    "    print('Collecting images for {}'.format(label))\n",
    "    time.sleep(5)\n",
    "    for imgnum in range(number_imgs):\n",
    "        print('Collecting image {}'.format(imgnum))\n",
    "        ret, frame = cap.read()\n",
    "        imgname = os.path.join(IMAGES_PATH,label,label+'.'+'{}.jpg'.format(str(uuid.uuid1())))\n",
    "        cv2.imwrite(imgname, frame)\n",
    "        cv2.imshow('frame', frame)\n",
    "        time.sleep(2)\n",
    "\n",
    "        if cv2.waitKey(1) & 0xFF == ord('q'):\n",
    "            break\n",
    "cap.release()\n",
    "cv2.destroyAllWindows()"
   ]
  },
  {
   "cell_type": "markdown",
   "metadata": {},
   "source": [
    "# 5. Image Labelling"
   ]
  },
  {
   "cell_type": "code",
   "execution_count": 19,
   "metadata": {},
   "outputs": [
    {
     "name": "stdout",
     "output_type": "stream",
     "text": [
      "Requirement already satisfied: pyqt5 in c:\\users\\tanus\\desktop\\tfodcourse-main\\tfod\\lib\\site-packages (5.15.7)\n",
      "Requirement already satisfied: lxml in c:\\users\\tanus\\desktop\\tfodcourse-main\\tfod\\lib\\site-packages (4.9.2)\n",
      "Requirement already satisfied: PyQt5-sip<13,>=12.11 in c:\\users\\tanus\\desktop\\tfodcourse-main\\tfod\\lib\\site-packages (from pyqt5) (12.11.0)\n",
      "Requirement already satisfied: PyQt5-Qt5>=5.15.0 in c:\\users\\tanus\\desktop\\tfodcourse-main\\tfod\\lib\\site-packages (from pyqt5) (5.15.2)\n"
     ]
    }
   ],
   "source": [
    "!pip install --upgrade pyqt5 lxml"
   ]
  },
  {
   "cell_type": "code",
   "execution_count": 20,
   "metadata": {},
   "outputs": [],
   "source": [
    "LABELIMG_PATH = os.path.join('Tensorflow', 'labelimg')"
   ]
  },
  {
   "cell_type": "code",
   "execution_count": 21,
   "metadata": {},
   "outputs": [
    {
     "name": "stderr",
     "output_type": "stream",
     "text": [
      "Cloning into 'Tensorflow\\labelimg'...\n"
     ]
    }
   ],
   "source": [
    "if not os.path.exists(LABELIMG_PATH):\n",
    "    !mkdir {LABELIMG_PATH}\n",
    "    !git clone https://github.com/tzutalin/labelImg {LABELIMG_PATH}"
   ]
  },
  {
   "cell_type": "code",
   "execution_count": 22,
   "metadata": {},
   "outputs": [],
   "source": [
    "if os.name == 'posix':\n",
    "    !make qt5py3\n",
    "if os.name =='nt':\n",
    "    !cd {LABELIMG_PATH} && pyrcc5 -o libs/resources.py resources.qrc"
   ]
  },
  {
   "cell_type": "code",
   "execution_count": 23,
   "metadata": {},
   "outputs": [
    {
     "name": "stdout",
     "output_type": "stream",
     "text": [
      "Image:C:\\Users\\tanus\\Desktop\\TFODCourse-main\\Tensorflow\\workspace\\images\\collectedimages\\livelong\\livelong.31c15635-9cbe-11ed-aa11-f85ea0df4a3e.jpg -> Annotation:C:/Users/tanus/Desktop/TFODCourse-main/Tensorflow/workspace/images/collectedimages/livelong\\livelong.31c15635-9cbe-11ed-aa11-f85ea0df4a3e.xml\n",
      "Image:C:\\Users\\tanus\\Desktop\\TFODCourse-main\\Tensorflow\\workspace\\images\\collectedimages\\livelong\\livelong.31c15635-9cbe-11ed-aa11-f85ea0df4a3e.jpg -> Annotation:C:/Users/tanus/Desktop/TFODCourse-main/Tensorflow/workspace/images/collectedimages/livelong\\livelong.31c15635-9cbe-11ed-aa11-f85ea0df4a3e.xml\n",
      "Cancel creation.\n",
      "Image:C:\\Users\\tanus\\Desktop\\TFODCourse-main\\Tensorflow\\workspace\\images\\collectedimages\\livelong\\livelong.31c15635-9cbe-11ed-aa11-f85ea0df4a3e.jpg -> Annotation:C:/Users/tanus/Desktop/TFODCourse-main/Tensorflow/workspace/images/collectedimages/livelong\\livelong.31c15635-9cbe-11ed-aa11-f85ea0df4a3e.xml\n",
      "Image:C:\\Users\\tanus\\Desktop\\TFODCourse-main\\Tensorflow\\workspace\\images\\collectedimages\\livelong\\livelong.32f5d586-9cbe-11ed-a5e6-f85ea0df4a3e.jpg -> Annotation:C:/Users/tanus/Desktop/TFODCourse-main/Tensorflow/workspace/images/collectedimages/livelong\\livelong.32f5d586-9cbe-11ed-a5e6-f85ea0df4a3e.xml\n",
      "Image:C:\\Users\\tanus\\Desktop\\TFODCourse-main\\Tensorflow\\workspace\\images\\collectedimages\\livelong\\livelong.83bcedaf-9cc0-11ed-89fe-f85ea0df4a3e.jpg -> Annotation:C:/Users/tanus/Desktop/TFODCourse-main/Tensorflow/workspace/images/collectedimages/livelong\\livelong.83bcedaf-9cc0-11ed-89fe-f85ea0df4a3e.xml\n",
      "Cancel creation.\n",
      "Cancel creation.\n",
      "Image:C:\\Users\\tanus\\Desktop\\TFODCourse-main\\Tensorflow\\workspace\\images\\collectedimages\\livelong\\livelong.308a76da-9cbe-11ed-9997-f85ea0df4a3e.jpg -> Annotation:C:/Users/tanus/Desktop/TFODCourse-main/Tensorflow/workspace/images/collectedimages/livelong\\livelong.308a76da-9cbe-11ed-9997-f85ea0df4a3e.xml\n",
      "Image:C:\\Users\\tanus\\Desktop\\TFODCourse-main\\Tensorflow\\workspace\\images\\collectedimages\\livelong\\livelong.342c3222-9cbe-11ed-b793-f85ea0df4a3e.jpg -> Annotation:C:/Users/tanus/Desktop/TFODCourse-main/Tensorflow/workspace/images/collectedimages/livelong\\livelong.342c3222-9cbe-11ed-b793-f85ea0df4a3e.xml\n",
      "Image:C:\\Users\\tanus\\Desktop\\TFODCourse-main\\Tensorflow\\workspace\\images\\collectedimages\\livelong\\livelong.862c0e5e-9cc0-11ed-abac-f85ea0df4a3e.jpg -> Annotation:C:/Users/tanus/Desktop/TFODCourse-main/Tensorflow/workspace/images/collectedimages/livelong\\livelong.862c0e5e-9cc0-11ed-abac-f85ea0df4a3e.xml\n",
      "Image:C:\\Users\\tanus\\Desktop\\TFODCourse-main\\Tensorflow\\workspace\\images\\collectedimages\\livelong\\livelong.8287acd5-9cc0-11ed-a4a2-f85ea0df4a3e.jpg -> Annotation:C:/Users/tanus/Desktop/TFODCourse-main/Tensorflow/workspace/images/collectedimages/livelong\\livelong.8287acd5-9cc0-11ed-a4a2-f85ea0df4a3e.xml\n",
      "Image:C:\\Users\\tanus\\Desktop\\TFODCourse-main\\Tensorflow\\workspace\\images\\collectedimages\\livelong\\livelong.87654010-9cc0-11ed-b502-f85ea0df4a3e.jpg -> Annotation:C:/Users/tanus/Desktop/TFODCourse-main/Tensorflow/workspace/images/collectedimages/livelong\\livelong.87654010-9cc0-11ed-b502-f85ea0df4a3e.xml\n",
      "Cancel creation.\n",
      "Cancel creation.\n",
      "Cancel creation.\n",
      "Cancel creation.\n",
      "Image:C:\\Users\\tanus\\Desktop\\TFODCourse-main\\Tensorflow\\workspace\\images\\collectedimages\\thankyou\\thankyou.7abce7ab-9cc0-11ed-a8f9-f85ea0df4a3e.jpg -> Annotation:C:/Users/tanus/Desktop/TFODCourse-main/Tensorflow/workspace/images/collectedimages/thankyou\\thankyou.7abce7ab-9cc0-11ed-a8f9-f85ea0df4a3e.xml\n",
      "Image:C:\\Users\\tanus\\Desktop\\TFODCourse-main\\Tensorflow\\workspace\\images\\collectedimages\\thankyou\\thankyou.7d2b6c52-9cc0-11ed-9ddb-f85ea0df4a3e.jpg -> Annotation:C:/Users/tanus/Desktop/TFODCourse-main/Tensorflow/workspace/images/collectedimages/thankyou\\thankyou.7d2b6c52-9cc0-11ed-9ddb-f85ea0df4a3e.xml\n",
      "Image:C:\\Users\\tanus\\Desktop\\TFODCourse-main\\Tensorflow\\workspace\\images\\collectedimages\\thankyou\\thankyou.266feb2d-9cbe-11ed-9a6f-f85ea0df4a3e.jpg -> Annotation:C:/Users/tanus/Desktop/TFODCourse-main/Tensorflow/workspace/images/collectedimages/thankyou\\thankyou.266feb2d-9cbe-11ed-9a6f-f85ea0df4a3e.xml\n",
      "Image:C:\\Users\\tanus\\Desktop\\TFODCourse-main\\Tensorflow\\workspace\\images\\collectedimages\\thankyou\\thankyou.266feb2d-9cbe-11ed-9a6f-f85ea0df4a3e.jpg -> Annotation:C:/Users/tanus/Desktop/TFODCourse-main/Tensorflow/workspace/images/collectedimages/thankyou\\thankyou.266feb2d-9cbe-11ed-9a6f-f85ea0df4a3e.xml\n",
      "Image:C:\\Users\\tanus\\Desktop\\TFODCourse-main\\Tensorflow\\workspace\\images\\collectedimages\\thankyou\\thankyou.266feb2d-9cbe-11ed-9a6f-f85ea0df4a3e.jpg -> Annotation:C:/Users/tanus/Desktop/TFODCourse-main/Tensorflow/workspace/images/collectedimages/thankyou\\thankyou.266feb2d-9cbe-11ed-9a6f-f85ea0df4a3e.xml\n",
      "ESC press\n",
      "Cancel creation.\n",
      "Image:C:\\Users\\tanus\\Desktop\\TFODCourse-main\\Tensorflow\\workspace\\images\\collectedimages\\thankyou\\thankyou.7853ac00-9cc0-11ed-9cc1-f85ea0df4a3e.jpg -> Annotation:C:/Users/tanus/Desktop/TFODCourse-main/Tensorflow/workspace/images/collectedimages/thankyou\\thankyou.7853ac00-9cc0-11ed-9cc1-f85ea0df4a3e.xml\n",
      "Image:C:\\Users\\tanus\\Desktop\\TFODCourse-main\\Tensorflow\\workspace\\images\\collectedimages\\thankyou\\thankyou.7986ea7c-9cc0-11ed-9765-f85ea0df4a3e.jpg -> Annotation:C:/Users/tanus/Desktop/TFODCourse-main/Tensorflow/workspace/images/collectedimages/thankyou\\thankyou.7986ea7c-9cc0-11ed-9765-f85ea0df4a3e.xml\n",
      "Image:C:\\Users\\tanus\\Desktop\\TFODCourse-main\\Tensorflow\\workspace\\images\\collectedimages\\thumbsdown\\thumbsdown.1c5b5541-9cbe-11ed-811a-f85ea0df4a3e.jpg -> Annotation:C:/Users/tanus/Desktop/TFODCourse-main/Tensorflow/workspace/images/collectedimages/thumbsdown\\thumbsdown.1c5b5541-9cbe-11ed-811a-f85ea0df4a3e.xml\n",
      "Image:C:\\Users\\tanus\\Desktop\\TFODCourse-main\\Tensorflow\\workspace\\images\\collectedimages\\thumbsdown\\thumbsdown.6e1ed407-9cc0-11ed-a942-f85ea0df4a3e.jpg -> Annotation:C:/Users/tanus/Desktop/TFODCourse-main/Tensorflow/workspace/images/collectedimages/thumbsdown\\thumbsdown.6e1ed407-9cc0-11ed-a942-f85ea0df4a3e.xml\n",
      "Image:C:\\Users\\tanus\\Desktop\\TFODCourse-main\\Tensorflow\\workspace\\images\\collectedimages\\thumbsdown\\thumbsdown.6f54a6b7-9cc0-11ed-828d-f85ea0df4a3e.jpg -> Annotation:C:/Users/tanus/Desktop/TFODCourse-main/Tensorflow/workspace/images/collectedimages/thumbsdown\\thumbsdown.6f54a6b7-9cc0-11ed-828d-f85ea0df4a3e.xml\n",
      "Image:C:\\Users\\tanus\\Desktop\\TFODCourse-main\\Tensorflow\\workspace\\images\\collectedimages\\thumbsdown\\thumbsdown.2136a085-9cbe-11ed-8911-f85ea0df4a3e.jpg -> Annotation:C:/Users/tanus/Desktop/TFODCourse-main/Tensorflow/workspace/images/collectedimages/thumbsdown\\thumbsdown.2136a085-9cbe-11ed-8911-f85ea0df4a3e.xml\n",
      "Image:C:\\Users\\tanus\\Desktop\\TFODCourse-main\\Tensorflow\\workspace\\images\\collectedimages\\thumbsdown\\thumbsdown.20006bcc-9cbe-11ed-a2b0-f85ea0df4a3e.jpg -> Annotation:C:/Users/tanus/Desktop/TFODCourse-main/Tensorflow/workspace/images/collectedimages/thumbsdown\\thumbsdown.20006bcc-9cbe-11ed-a2b0-f85ea0df4a3e.xml\n",
      "Image:C:\\Users\\tanus\\Desktop\\TFODCourse-main\\Tensorflow\\workspace\\images\\collectedimages\\thumbsup\\thumbsup.14a56a43-9cbe-11ed-96a7-f85ea0df4a3e.jpg -> Annotation:C:/Users/tanus/Desktop/TFODCourse-main/Tensorflow/workspace/images/collectedimages/thumbsup\\thumbsup.14a56a43-9cbe-11ed-96a7-f85ea0df4a3e.xml\n",
      "Image:C:\\Users\\tanus\\Desktop\\TFODCourse-main\\Tensorflow\\workspace\\images\\collectedimages\\thumbsup\\thumbsup.14a56a43-9cbe-11ed-96a7-f85ea0df4a3e.jpg -> Annotation:C:/Users/tanus/Desktop/TFODCourse-main/Tensorflow/workspace/images/collectedimages/thumbsup\\thumbsup.14a56a43-9cbe-11ed-96a7-f85ea0df4a3e.xml\n",
      "Image:C:\\Users\\tanus\\Desktop\\TFODCourse-main\\Tensorflow\\workspace\\images\\collectedimages\\thumbsup\\thumbsup.15db01f0-9cbe-11ed-8877-f85ea0df4a3e.jpg -> Annotation:C:/Users/tanus/Desktop/TFODCourse-main/Tensorflow/workspace/images/collectedimages/thumbsup\\thumbsup.15db01f0-9cbe-11ed-8877-f85ea0df4a3e.xml\n",
      "Image:C:\\Users\\tanus\\Desktop\\TFODCourse-main\\Tensorflow\\workspace\\images\\collectedimages\\thumbsup\\thumbsup.68c05acd-9cc0-11ed-a30f-f85ea0df4a3e.jpg -> Annotation:C:/Users/tanus/Desktop/TFODCourse-main/Tensorflow/workspace/images/collectedimages/thumbsup\\thumbsup.68c05acd-9cc0-11ed-a30f-f85ea0df4a3e.xml\n",
      "Image:C:\\Users\\tanus\\Desktop\\TFODCourse-main\\Tensorflow\\workspace\\images\\collectedimages\\thumbsup\\thumbsup.651edfd5-9cc0-11ed-871b-f85ea0df4a3e.jpg -> Annotation:C:/Users/tanus/Desktop/TFODCourse-main/Tensorflow/workspace/images/collectedimages/thumbsup\\thumbsup.651edfd5-9cc0-11ed-871b-f85ea0df4a3e.xml\n",
      "Image:C:\\Users\\tanus\\Desktop\\TFODCourse-main\\Tensorflow\\workspace\\images\\collectedimages\\thumbsup\\thumbsup.171039ed-9cbe-11ed-9296-f85ea0df4a3e.jpg -> Annotation:C:/Users/tanus/Desktop/TFODCourse-main/Tensorflow/workspace/images/collectedimages/thumbsup\\thumbsup.171039ed-9cbe-11ed-9296-f85ea0df4a3e.xml\n"
     ]
    }
   ],
   "source": [
    "!cd {LABELIMG_PATH} && python labelImg.py"
   ]
  },
  {
   "cell_type": "markdown",
   "metadata": {},
   "source": [
    "# 6. Move them into a Training and Testing Partition"
   ]
  },
  {
   "cell_type": "markdown",
   "metadata": {},
   "source": [
    "# OPTIONAL - 7. Compress them for Colab Training"
   ]
  },
  {
   "cell_type": "code",
   "execution_count": 20,
   "metadata": {},
   "outputs": [],
   "source": [
    "TRAIN_PATH = os.path.join('Tensorflow', 'workspace', 'images', 'train')\n",
    "TEST_PATH = os.path.join('Tensorflow', 'workspace', 'images', 'test')\n",
    "ARCHIVE_PATH = os.path.join('Tensorflow', 'workspace', 'images', 'archive.tar.gz')"
   ]
  },
  {
   "cell_type": "code",
   "execution_count": 21,
   "metadata": {},
   "outputs": [],
   "source": [
    "!tar -czf {ARCHIVE_PATH} {TRAIN_PATH} {TEST_PATH}"
   ]
  },
  {
   "cell_type": "code",
   "execution_count": null,
   "metadata": {},
   "outputs": [],
   "source": []
  }
 ],
 "metadata": {
  "kernelspec": {
   "display_name": "tfod",
   "language": "python",
   "name": "tfod"
  },
  "language_info": {
   "codemirror_mode": {
    "name": "ipython",
    "version": 3
   },
   "file_extension": ".py",
   "mimetype": "text/x-python",
   "name": "python",
   "nbconvert_exporter": "python",
   "pygments_lexer": "ipython3",
   "version": "3.8.15"
  }
 },
 "nbformat": 4,
 "nbformat_minor": 2
}
